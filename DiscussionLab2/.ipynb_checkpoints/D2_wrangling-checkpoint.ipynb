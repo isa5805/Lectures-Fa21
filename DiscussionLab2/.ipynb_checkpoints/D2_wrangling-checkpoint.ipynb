{
 "cells": [
  {
   "cell_type": "markdown",
   "metadata": {
    "deletable": false,
    "editable": false,
    "nbgrader": {
     "cell_type": "markdown",
     "checksum": "1e759865d1802c1ea1d5993d556f1fa5",
     "grade": false,
     "grade_id": "cell-df0844acc5dc9764",
     "locked": true,
     "schema_version": 3,
     "solution": false
    }
   },
   "source": [
    "# D2 : Data Wrangling\n",
    "\n",
    "In this week's workbook, you'll work through an example in this to gain practice on how to:\n",
    "* read a DataFrame into Python\n",
    "* wrangle the data\n",
    "* clean the data"
   ]
  },
  {
   "cell_type": "markdown",
   "metadata": {
    "deletable": false,
    "editable": false,
    "nbgrader": {
     "cell_type": "markdown",
     "checksum": "72304f4f409e745be56d52c799c197ce",
     "grade": false,
     "grade_id": "cell-8ac9b04cc885ab3b",
     "locked": true,
     "schema_version": 3,
     "solution": false
    }
   },
   "source": [
    "# Part I: Setup\n",
    "\n",
    "Data wrangling often requires additional functionality outside what's included in Python by default. For this, we'll import other functions from helpful packages."
   ]
  },
  {
   "cell_type": "markdown",
   "metadata": {
    "deletable": false,
    "editable": false,
    "nbgrader": {
     "cell_type": "markdown",
     "checksum": "761d2b8d81a64acdc625052fcc517b15",
     "grade": false,
     "grade_id": "cell-58bfc3d10382dd05",
     "locked": true,
     "schema_version": 3,
     "solution": false
    }
   },
   "source": [
    "**Import the following packages using their common shortened name found in parentheses:**\n",
    "\n",
    "* `numpy` (`np`)\n",
    "* `pandas` (`pd`)"
   ]
  },
  {
   "cell_type": "code",
   "execution_count": 3,
   "metadata": {
    "deletable": false,
    "nbgrader": {
     "cell_type": "code",
     "checksum": "21a5caa099738dc651e06e0e09889835",
     "grade": false,
     "grade_id": "cell-b689d21f629d9dda",
     "locked": false,
     "schema_version": 3,
     "solution": true
    }
   },
   "outputs": [
    {
     "ename": "ModuleNotFoundError",
     "evalue": "No module named 'pd'",
     "output_type": "error",
     "traceback": [
      "\u001b[0;31m---------------------------------------------------------------------------\u001b[0m",
      "\u001b[0;31mModuleNotFoundError\u001b[0m                       Traceback (most recent call last)",
      "\u001b[0;32m/tmp/ipykernel_95/2750522565.py\u001b[0m in \u001b[0;36m<module>\u001b[0;34m\u001b[0m\n\u001b[1;32m      1\u001b[0m \u001b[0;31m# YOUR CODE HERE\u001b[0m\u001b[0;34m\u001b[0m\u001b[0;34m\u001b[0m\u001b[0;34m\u001b[0m\u001b[0m\n\u001b[0;32m----> 2\u001b[0;31m \u001b[0;32mimport\u001b[0m \u001b[0mpd\u001b[0m\u001b[0;34m\u001b[0m\u001b[0;34m\u001b[0m\u001b[0m\n\u001b[0m",
      "\u001b[0;31mModuleNotFoundError\u001b[0m: No module named 'pd'"
     ]
    }
   ],
   "source": [
    "# YOUR CODE HERE\n",
    "import pd"
   ]
  },
  {
   "cell_type": "markdown",
   "metadata": {
    "deletable": false,
    "editable": false,
    "nbgrader": {
     "cell_type": "markdown",
     "checksum": "17c613f98744c51669831d5968a42c51",
     "grade": false,
     "grade_id": "cell-e5cff9f7eb53af65",
     "locked": true,
     "schema_version": 3,
     "solution": false
    }
   },
   "source": [
    "**Run the following cell code to make things throughout the rest of this workbook a little prettier.** (Note: You don't have to edit code here, but are free to and see what changes to be sure you understand each line.)"
   ]
  },
  {
   "cell_type": "code",
   "execution_count": null,
   "metadata": {},
   "outputs": [],
   "source": [
    "# Configure libraries\n",
    "\n",
    "# Don't display too many rows/cols of DataFrames\n",
    "pd.options.display.max_rows = 7\n",
    "pd.options.display.max_columns = 8\n",
    "\n",
    "# Round decimals when displaying DataFrames\n",
    "pd.set_option('precision', 2)"
   ]
  },
  {
   "cell_type": "markdown",
   "metadata": {
    "deletable": false,
    "editable": false,
    "nbgrader": {
     "cell_type": "markdown",
     "checksum": "cfb8fa0a2bd868fce467248aee38de0d",
     "grade": false,
     "grade_id": "cell-c00d30a4e4633133",
     "locked": true,
     "schema_version": 3,
     "solution": false
    }
   },
   "source": [
    "**Read the CSV file at the URL https://raw.githubusercontent.com/fivethirtyeight/data/master/steak-survey/steak-risk-survey.csv into Python in and assign it to the variable `survey`**."
   ]
  },
  {
   "cell_type": "code",
   "execution_count": null,
   "metadata": {
    "deletable": false,
    "nbgrader": {
     "cell_type": "code",
     "checksum": "efb121927f8db67bc35c376bf8903222",
     "grade": false,
     "grade_id": "cell-65e31c6985ba9dd2",
     "locked": false,
     "schema_version": 3,
     "solution": true
    }
   },
   "outputs": [],
   "source": [
    "# YOUR CODE HERE\n",
    "raise NotImplementedError()\n",
    "\n",
    "# take a look at the data\n",
    "survey"
   ]
  },
  {
   "cell_type": "code",
   "execution_count": null,
   "metadata": {
    "deletable": false,
    "editable": false,
    "nbgrader": {
     "cell_type": "code",
     "checksum": "46e6b99a7cb2fbaf6f66920fe1ea3a1e",
     "grade": true,
     "grade_id": "cell-0fdae0bebda7c436",
     "locked": true,
     "points": 0,
     "schema_version": 3,
     "solution": false
    }
   },
   "outputs": [],
   "source": [
    "assert survey.shape == (551, 15)"
   ]
  },
  {
   "cell_type": "markdown",
   "metadata": {
    "deletable": false,
    "editable": false,
    "nbgrader": {
     "cell_type": "markdown",
     "checksum": "00ae4ce0acbb8e134845a08f427dccde",
     "grade": false,
     "grade_id": "cell-417136016fee2e68",
     "locked": true,
     "schema_version": 3,
     "solution": false
    }
   },
   "source": [
    "These data contain survey responses from Americans who responded to a SurveyMonkey Audience poll. These data were used in the [FiveThirtyEight](https://fivethirtyeight.com) article: *[How Americans Like Their Steak](https://fivethirtyeight.com/features/how-americans-like-their-steak/)*"
   ]
  },
  {
   "cell_type": "markdown",
   "metadata": {
    "deletable": false,
    "editable": false,
    "nbgrader": {
     "cell_type": "markdown",
     "checksum": "8be95e3efae7cab1f0bf39a6f710bfb5",
     "grade": false,
     "grade_id": "cell-98f70820df7fa1af",
     "locked": true,
     "schema_version": 3,
     "solution": false
    }
   },
   "source": [
    "# Part II: Wrangling"
   ]
  },
  {
   "cell_type": "markdown",
   "metadata": {
    "deletable": false,
    "editable": false,
    "nbgrader": {
     "cell_type": "markdown",
     "checksum": "0b99cd3b7bf3463cc8422d7bf7be333d",
     "grade": false,
     "grade_id": "cell-fa1e082f004a61eb",
     "locked": true,
     "schema_version": 3,
     "solution": false
    }
   },
   "source": [
    "**Write a line of code to look at the first few rows of the DataFrame**"
   ]
  },
  {
   "cell_type": "code",
   "execution_count": null,
   "metadata": {
    "deletable": false,
    "nbgrader": {
     "cell_type": "code",
     "checksum": "40c1ffd7feda89687d91312b8393124c",
     "grade": false,
     "grade_id": "cell-c7cd7d4cfbf98114",
     "locked": false,
     "schema_version": 3,
     "solution": true
    }
   },
   "outputs": [],
   "source": [
    "# YOUR CODE HERE\n",
    "raise NotImplementedError()"
   ]
  },
  {
   "cell_type": "markdown",
   "metadata": {
    "deletable": false,
    "editable": false,
    "nbgrader": {
     "cell_type": "markdown",
     "checksum": "90a6b3ad927afb66da97f21960a62d4e",
     "grade": false,
     "grade_id": "cell-116be865f8da95b0",
     "locked": true,
     "schema_version": 3,
     "solution": false
    }
   },
   "source": [
    "What do you notice about the first row of the dataframe? Notice that it's not actually an observation from a respondent? **Remove this row from the dataset. Assign this back to the variable `survey`. Print the first few rows again to make sure you've accomplished this.**"
   ]
  },
  {
   "cell_type": "code",
   "execution_count": null,
   "metadata": {
    "deletable": false,
    "nbgrader": {
     "cell_type": "code",
     "checksum": "780f33cb9a244d18cdf1ac4886c8ecd3",
     "grade": false,
     "grade_id": "cell-0624532e0d0d4ce1",
     "locked": false,
     "schema_version": 3,
     "solution": true
    }
   },
   "outputs": [],
   "source": [
    "# YOUR CODE HERE\n",
    "raise NotImplementedError()"
   ]
  },
  {
   "cell_type": "code",
   "execution_count": null,
   "metadata": {
    "deletable": false,
    "editable": false,
    "nbgrader": {
     "cell_type": "code",
     "checksum": "64ce00167a57d4aec9261868862e8e0c",
     "grade": true,
     "grade_id": "cell-3969e31aae66b836",
     "locked": true,
     "points": 0,
     "schema_version": 3,
     "solution": false
    }
   },
   "outputs": [],
   "source": [
    "assert survey.shape == (550, 15)"
   ]
  },
  {
   "cell_type": "markdown",
   "metadata": {
    "deletable": false,
    "editable": false,
    "nbgrader": {
     "cell_type": "markdown",
     "checksum": "8aad462434544967b7b0ed809e19fcae",
     "grade": false,
     "grade_id": "cell-4bb9fdbe8e3ebfdd",
     "locked": true,
     "schema_version": 3,
     "solution": false
    }
   },
   "source": [
    "Notice that there are a lot of different questions that were asked of respondents (columns) and 550 people who responded to the survey (rows). "
   ]
  },
  {
   "cell_type": "markdown",
   "metadata": {
    "deletable": false,
    "editable": false,
    "nbgrader": {
     "cell_type": "markdown",
     "checksum": "dc3e17c701ce77e09d81328a83dcbbe7",
     "grade": false,
     "grade_id": "cell-53ae24cf81d72b9d",
     "locked": true,
     "schema_version": 3,
     "solution": false
    }
   },
   "source": [
    "**Print a list of all the column names in this DataFrame.**\n",
    "\n",
    "We'll only end up working with a subset of these."
   ]
  },
  {
   "cell_type": "code",
   "execution_count": null,
   "metadata": {
    "deletable": false,
    "nbgrader": {
     "cell_type": "code",
     "checksum": "f1ca306bfc0b509a75f0146b9d99e984",
     "grade": false,
     "grade_id": "cell-c91f7a1c6729ad43",
     "locked": false,
     "schema_version": 3,
     "solution": true
    }
   },
   "outputs": [],
   "source": [
    "# YOUR CODE HERE\n",
    "raise NotImplementedError()"
   ]
  },
  {
   "cell_type": "markdown",
   "metadata": {
    "deletable": false,
    "editable": false,
    "nbgrader": {
     "cell_type": "markdown",
     "checksum": "92f4861a284ea1b384f12b29e41226fd",
     "grade": false,
     "grade_id": "cell-b7a5286bb9610982",
     "locked": true,
     "schema_version": 3,
     "solution": false
    }
   },
   "source": [
    "Now we have a sense of what information is included in the dataset. In the coming weeks, we'll answer the following questions:\n",
    "1. Who cheats more on their significant other - males or females?\n",
    "2. Are cigarette smokers less likely to skydive?\n",
    "3. Do people in New England gamble more than other parts of the country?\n",
    "\n",
    "To answer these we'll only need data from *some* of the columns in the dataset."
   ]
  },
  {
   "cell_type": "markdown",
   "metadata": {
    "deletable": false,
    "editable": false,
    "nbgrader": {
     "cell_type": "markdown",
     "checksum": "c3e721baa7f3edd59be43cacc6d50d02",
     "grade": false,
     "grade_id": "cell-1840559f4a8cf120",
     "locked": true,
     "schema_version": 3,
     "solution": false
    }
   },
   "source": [
    "Let's drop the columns we don't need. **Drop the first two columns from the dataset. This should still be assigned to the variable `survey`.**"
   ]
  },
  {
   "cell_type": "code",
   "execution_count": null,
   "metadata": {
    "deletable": false,
    "nbgrader": {
     "cell_type": "code",
     "checksum": "1f69722a649b9f6e32382dd3952872fb",
     "grade": false,
     "grade_id": "cell-8a1106312081bab5",
     "locked": false,
     "schema_version": 3,
     "solution": true
    }
   },
   "outputs": [],
   "source": [
    "# YOUR CODE HERE\n",
    "raise NotImplementedError()"
   ]
  },
  {
   "cell_type": "code",
   "execution_count": null,
   "metadata": {
    "deletable": false,
    "editable": false,
    "nbgrader": {
     "cell_type": "code",
     "checksum": "87960d04dd6c745b0f4f488666bf7f78",
     "grade": true,
     "grade_id": "cell-89822f596640cd4e",
     "locked": true,
     "points": 0,
     "schema_version": 3,
     "solution": false
    }
   },
   "outputs": [],
   "source": [
    "assert survey.shape == (550,13)"
   ]
  },
  {
   "cell_type": "markdown",
   "metadata": {},
   "source": [
    "Now that we've got the columns we want, let's clean up those column names. **Rename the columns in `survey` so the appropriate columns have the following names:**\n",
    "\n",
    "* smoking\n",
    "* alcohol\n",
    "* gambling\n",
    "* skydiving\n",
    "* speeding\n",
    "* cheated\n",
    "* steak\n",
    "* steak_preference\n",
    "* gender\n",
    "* age\n",
    "* income \n",
    "* education\n",
    "* region\n",
    "\n",
    "Note that a list has been provided here, with these names, so you don't have to type them all:"
   ]
  },
  {
   "cell_type": "code",
   "execution_count": null,
   "metadata": {},
   "outputs": [],
   "source": [
    "['smoking','alcohol','gambling',\n",
    " 'skydiving','speeding', 'cheated',\n",
    " 'steak', 'steak_preference','gender',\n",
    " 'age', 'income', 'education', 'region']"
   ]
  },
  {
   "cell_type": "code",
   "execution_count": null,
   "metadata": {
    "deletable": false,
    "nbgrader": {
     "cell_type": "code",
     "checksum": "a45282af96641004367c28954475f9ec",
     "grade": false,
     "grade_id": "cell-ff9ae6330821a062",
     "locked": false,
     "schema_version": 3,
     "solution": true
    }
   },
   "outputs": [],
   "source": [
    "# YOUR CODE HERE\n",
    "raise NotImplementedError()"
   ]
  },
  {
   "cell_type": "code",
   "execution_count": null,
   "metadata": {
    "deletable": false,
    "editable": false,
    "nbgrader": {
     "cell_type": "code",
     "checksum": "849fd23821d17cbd2a34d0866d99e26b",
     "grade": true,
     "grade_id": "cell-ac6bcfa7d1ac939d",
     "locked": true,
     "points": 0,
     "schema_version": 3,
     "solution": false
    }
   },
   "outputs": [],
   "source": [
    "assert list(survey) == ['smoking',\n",
    "                        'alcohol',\n",
    "                        'gambling',\n",
    "                        'skydiving',\n",
    "                        'speeding',\n",
    "                        'cheated',\n",
    "                        'steak',\n",
    "                        'steak_preference',\n",
    "                        'gender',\n",
    "                        'age',\n",
    "                        'income',\n",
    "                        'education',\n",
    "                        'region']"
   ]
  },
  {
   "cell_type": "markdown",
   "metadata": {
    "deletable": false,
    "editable": false,
    "nbgrader": {
     "cell_type": "markdown",
     "checksum": "71895abdf951329c11567fed7b5e4ff0",
     "grade": false,
     "grade_id": "cell-0b7af4b27afc7398",
     "locked": true,
     "schema_version": 3,
     "solution": false
    }
   },
   "source": [
    "We're in pretty good shape now. **Print the first few rows of the `survey` DataFrame to see what the data look like at this point.**"
   ]
  },
  {
   "cell_type": "code",
   "execution_count": null,
   "metadata": {},
   "outputs": [],
   "source": [
    "survey.head()"
   ]
  },
  {
   "cell_type": "markdown",
   "metadata": {
    "deletable": false,
    "editable": false,
    "nbgrader": {
     "cell_type": "markdown",
     "checksum": "0af69d167ab2786e71c0783d4e155cac",
     "grade": false,
     "grade_id": "cell-a8094e600740ec79",
     "locked": true,
     "schema_version": 3,
     "solution": false
    }
   },
   "source": [
    "# Part III: Cleaning"
   ]
  },
  {
   "cell_type": "markdown",
   "metadata": {
    "deletable": false,
    "editable": false,
    "nbgrader": {
     "cell_type": "markdown",
     "checksum": "32fd58844e15e6247206b244d1e0ebc1",
     "grade": false,
     "grade_id": "cell-eb47e86882621553",
     "locked": true,
     "schema_version": 3,
     "solution": false
    }
   },
   "source": [
    "**Now that we've go the data we need, let's get a sense for how much missing data there is in this dataset by determining how many null-containing rows there are in `survey`. Assign this value to the variable `null_rows`.**"
   ]
  },
  {
   "cell_type": "code",
   "execution_count": null,
   "metadata": {
    "deletable": false,
    "nbgrader": {
     "cell_type": "code",
     "checksum": "a6b251b073b13bacee43af110dc48fd3",
     "grade": false,
     "grade_id": "cell-5bc6a10438afe331",
     "locked": false,
     "schema_version": 3,
     "solution": true
    }
   },
   "outputs": [],
   "source": [
    "# YOUR CODE HERE\n",
    "raise NotImplementedError()"
   ]
  },
  {
   "cell_type": "code",
   "execution_count": null,
   "metadata": {
    "deletable": false,
    "editable": false,
    "nbgrader": {
     "cell_type": "code",
     "checksum": "f60b90997b79964c02c2f96073ff0306",
     "grade": true,
     "grade_id": "cell-e43974ae43ee28d8",
     "locked": true,
     "points": 0,
     "schema_version": 3,
     "solution": false
    }
   },
   "outputs": [],
   "source": [
    "assert null_rows == 217"
   ]
  },
  {
   "cell_type": "markdown",
   "metadata": {
    "deletable": false,
    "editable": false,
    "nbgrader": {
     "cell_type": "markdown",
     "checksum": "54d85b153108687490d0120271556076",
     "grade": false,
     "grade_id": "cell-4eed5130ae38d2f7",
     "locked": true,
     "schema_version": 3,
     "solution": false
    }
   },
   "source": [
    "Good to know that lots of people didn't answer every question. We'll keep that in mind as we work with this dataset."
   ]
  },
  {
   "cell_type": "markdown",
   "metadata": {
    "deletable": false,
    "editable": false,
    "nbgrader": {
     "cell_type": "markdown",
     "checksum": "936c4a2621a93aa05d223f1808b7f6a4",
     "grade": false,
     "grade_id": "cell-8db44d0d5ab8bfba",
     "locked": true,
     "schema_version": 3,
     "solution": false
    }
   },
   "source": [
    "Simply dropping missing observations is typically not good practice; however, in this case we'll drop observations that have missing data across the entire row, as these are individuals who didn't participate in the survey at all. **Remove rows where ALL the columns have missing data for that participant.**"
   ]
  },
  {
   "cell_type": "code",
   "execution_count": null,
   "metadata": {},
   "outputs": [],
   "source": [
    "survey.dropna?"
   ]
  },
  {
   "cell_type": "code",
   "execution_count": null,
   "metadata": {
    "deletable": false,
    "nbgrader": {
     "cell_type": "code",
     "checksum": "df6400d0684b3d48927e332e2035de07",
     "grade": false,
     "grade_id": "cell-b8417c0e50579e72",
     "locked": false,
     "schema_version": 3,
     "solution": true
    }
   },
   "outputs": [],
   "source": [
    "# YOUR CODE HERE\n",
    "raise NotImplementedError()"
   ]
  },
  {
   "cell_type": "code",
   "execution_count": null,
   "metadata": {
    "deletable": false,
    "editable": false,
    "nbgrader": {
     "cell_type": "code",
     "checksum": "4c43e58a2e99ab53b83daa3941fbe4d8",
     "grade": true,
     "grade_id": "cell-27d421b2b5aaac0f",
     "locked": true,
     "points": 0,
     "schema_version": 3,
     "solution": false
    }
   },
   "outputs": [],
   "source": [
    "assert survey.shape == (541, 13)"
   ]
  },
  {
   "cell_type": "markdown",
   "metadata": {
    "deletable": false,
    "editable": false,
    "nbgrader": {
     "cell_type": "markdown",
     "checksum": "5fe1435f8c698847fa78d934cf46245e",
     "grade": false,
     "grade_id": "cell-61694a481524ca98",
     "locked": true,
     "schema_version": 3,
     "solution": false
    }
   },
   "source": [
    "**Print the first few rows to remind yourself what the data look like at this point.**"
   ]
  },
  {
   "cell_type": "code",
   "execution_count": null,
   "metadata": {
    "deletable": false,
    "nbgrader": {
     "cell_type": "code",
     "checksum": "fa1ca185ddd9292315b9019383ef5400",
     "grade": false,
     "grade_id": "cell-e1148cbe6b8da30b",
     "locked": false,
     "schema_version": 3,
     "solution": true
    }
   },
   "outputs": [],
   "source": [
    "# YOUR CODE HERE\n",
    "raise NotImplementedError()"
   ]
  },
  {
   "cell_type": "markdown",
   "metadata": {
    "deletable": false,
    "editable": false,
    "nbgrader": {
     "cell_type": "markdown",
     "checksum": "d5daa04b38f5522707ab88b40e7e81eb",
     "grade": false,
     "grade_id": "cell-604215ae66eb058d",
     "locked": true,
     "schema_version": 3,
     "solution": false
    }
   },
   "source": [
    "Note that the first row no longer has all missing data here. We've got a dataset we can work with now!"
   ]
  },
  {
   "cell_type": "markdown",
   "metadata": {
    "deletable": false,
    "editable": false,
    "nbgrader": {
     "cell_type": "markdown",
     "checksum": "420933d55721e30730990697abd9af9b",
     "grade": false,
     "grade_id": "cell-56791987b2147cb7",
     "locked": true,
     "schema_version": 3,
     "solution": false
    }
   },
   "source": [
    "**Great work on this workbook! We'll continue to work with this dataset in section to answer our questions of interest. You can work on other parts of the class or help a classmate work through this - we always understand things best once we've had to explain them to someone else.**"
   ]
  }
 ],
 "metadata": {
  "kernelspec": {
   "display_name": "Python 3 (ipykernel)",
   "language": "python",
   "name": "python3"
  },
  "language_info": {
   "codemirror_mode": {
    "name": "ipython",
    "version": 3
   },
   "file_extension": ".py",
   "mimetype": "text/x-python",
   "name": "python",
   "nbconvert_exporter": "python",
   "pygments_lexer": "ipython3",
   "version": "3.9.5"
  }
 },
 "nbformat": 4,
 "nbformat_minor": 2
}
